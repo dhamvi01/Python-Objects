{
  "nbformat": 4,
  "nbformat_minor": 0,
  "metadata": {
    "colab": {
      "name": "Day_1.ipynb",
      "version": "0.3.2",
      "provenance": []
    },
    "kernelspec": {
      "name": "python3",
      "display_name": "Python 3"
    }
  },
  "cells": [
    {
      "cell_type": "markdown",
      "metadata": {
        "id": "EtHApWI3mVF7",
        "colab_type": "text"
      },
      "source": [
        "**Python Numbers**"
      ]
    },
    {
      "cell_type": "code",
      "metadata": {
        "id": "jUCFH6o85Yle",
        "colab_type": "code",
        "outputId": "f6123c6e-40dc-4fd1-8a1e-ca7e0b013d2e",
        "colab": {
          "base_uri": "https://localhost:8080/",
          "height": 34
        }
      },
      "source": [
        "#a = 10\n",
        "#print(a)\n",
        "#type(a)\n",
        "\n",
        "#b = 1.25\n",
        "#type(b)\n",
        "\n",
        "c = a + 3j\n",
        "type(c)"
      ],
      "execution_count": 0,
      "outputs": [
        {
          "output_type": "execute_result",
          "data": {
            "text/plain": [
              "complex"
            ]
          },
          "metadata": {
            "tags": []
          },
          "execution_count": 42
        }
      ]
    },
    {
      "cell_type": "markdown",
      "metadata": {
        "id": "0xbtHou-mgqp",
        "colab_type": "text"
      },
      "source": [
        "**Python Strings**"
      ]
    },
    {
      "cell_type": "code",
      "metadata": {
        "id": "j42dSRdE-hTr",
        "colab_type": "code",
        "outputId": "a26374ab-aae0-468b-c5a8-23ae3e79a83e",
        "colab": {
          "base_uri": "https://localhost:8080/",
          "height": 34
        }
      },
      "source": [
        "a = \"Hello World\"\n",
        "#a\n",
        "#a[:4]\n",
        "\n",
        "a[3:]\n",
        "\n",
        "b = '!!!!###'\n",
        "\n",
        "a + b\n",
        "\n",
        "type(a)"
      ],
      "execution_count": 0,
      "outputs": [
        {
          "output_type": "execute_result",
          "data": {
            "text/plain": [
              "str"
            ]
          },
          "metadata": {
            "tags": []
          },
          "execution_count": 54
        }
      ]
    },
    {
      "cell_type": "markdown",
      "metadata": {
        "id": "PBncB9UJmndN",
        "colab_type": "text"
      },
      "source": [
        "**Python List**"
      ]
    },
    {
      "cell_type": "code",
      "metadata": {
        "id": "P8zb3BUbCHBJ",
        "colab_type": "code",
        "outputId": "4a4b0e7c-c627-49ba-a18b-3186cbe8095f",
        "colab": {
          "base_uri": "https://localhost:8080/",
          "height": 34
        }
      },
      "source": [
        "a = [1,2,3,4]\n",
        "a\n",
        "type(a)\n",
        "a[:2]\n",
        "a[:4]\n",
        "a[-1:]\n",
        "a[-2:]\n",
        "a[1:3]\n",
        "a[2:4]"
      ],
      "execution_count": 0,
      "outputs": [
        {
          "output_type": "execute_result",
          "data": {
            "text/plain": [
              "[3, 4]"
            ]
          },
          "metadata": {
            "tags": []
          },
          "execution_count": 62
        }
      ]
    },
    {
      "cell_type": "code",
      "metadata": {
        "id": "SCM1Ux5fD9BZ",
        "colab_type": "code",
        "outputId": "e0fddced-b17a-4613-c58c-817f269e02df",
        "colab": {
          "base_uri": "https://localhost:8080/",
          "height": 85
        }
      },
      "source": [
        "for i in a:\n",
        "  print(i)"
      ],
      "execution_count": 0,
      "outputs": [
        {
          "output_type": "stream",
          "text": [
            "1\n",
            "2\n",
            "3\n",
            "4\n"
          ],
          "name": "stdout"
        }
      ]
    },
    {
      "cell_type": "code",
      "metadata": {
        "id": "TzlyBx3oE55D",
        "colab_type": "code",
        "outputId": "4cca59ad-3572-41c0-d8ea-483ad008f146",
        "colab": {
          "base_uri": "https://localhost:8080/",
          "height": 34
        }
      },
      "source": [
        "a = [1,2,3,4]\n",
        "b = [5,6]\n",
        "a + b\n",
        "a[1] = 100\n",
        "a\n",
        "#a.append([5,6,7,8,99])\n",
        "a[-1:]"
      ],
      "execution_count": 0,
      "outputs": [
        {
          "output_type": "execute_result",
          "data": {
            "text/plain": [
              "[[5, 6, 7, 8, 99]]"
            ]
          },
          "metadata": {
            "tags": []
          },
          "execution_count": 75
        }
      ]
    },
    {
      "cell_type": "code",
      "metadata": {
        "id": "3yAQjT9NHKgq",
        "colab_type": "code",
        "outputId": "cc2f8cf5-f0f1-4fac-ebb1-210ec1ae6cc9",
        "colab": {
          "base_uri": "https://localhost:8080/",
          "height": 34
        }
      },
      "source": [
        "a = [1,20,3,4]\n",
        "#a.insert(4,10)\n",
        "#a.pop(2)\n",
        "#a\n",
        "\n",
        "#a.remove(20)\n",
        "#a.sort()\n",
        "a\n",
        "\n",
        "x,y,z,b = a\n",
        "y"
      ],
      "execution_count": 0,
      "outputs": [
        {
          "output_type": "execute_result",
          "data": {
            "text/plain": [
              "20"
            ]
          },
          "metadata": {
            "tags": []
          },
          "execution_count": 92
        }
      ]
    },
    {
      "cell_type": "markdown",
      "metadata": {
        "id": "OS7ZdtMzmyPa",
        "colab_type": "text"
      },
      "source": [
        "**Python Tuples**"
      ]
    },
    {
      "cell_type": "code",
      "metadata": {
        "id": "qTGdAK0lJO8v",
        "colab_type": "code",
        "outputId": "cb793329-ff8f-4b9e-cb66-b49a412afdbb",
        "colab": {
          "base_uri": "https://localhost:8080/",
          "height": 85
        }
      },
      "source": [
        "a = (1,2,3,4)\n",
        "type(a)\n",
        "#a[2] = 20\n",
        "a[:2]\n",
        "for i in a:\n",
        "  print(i)\n"
      ],
      "execution_count": 0,
      "outputs": [
        {
          "output_type": "stream",
          "text": [
            "1\n",
            "2\n",
            "3\n",
            "4\n"
          ],
          "name": "stdout"
        }
      ]
    },
    {
      "cell_type": "markdown",
      "metadata": {
        "id": "Jat0DAHvm4ZL",
        "colab_type": "text"
      },
      "source": [
        "**Python Dictinaries**"
      ]
    },
    {
      "cell_type": "code",
      "metadata": {
        "id": "as_5bfA1KAqL",
        "colab_type": "code",
        "outputId": "e82318a2-afa0-4d20-9d90-19dadc43accd",
        "colab": {
          "base_uri": "https://localhost:8080/",
          "height": 102
        }
      },
      "source": [
        "a = {'x' : [1,2], 'y' : [2]}\n",
        "type(a)\n",
        "\n",
        "a['x']\n",
        "\n",
        "a.keys()\n",
        "a.values()\n",
        "\n",
        "for i in a:\n",
        "  print(i)\n",
        "  print(a[i])\n",
        "  \n",
        "a['x'] = [1,2,100]\n",
        "a"
      ],
      "execution_count": 0,
      "outputs": [
        {
          "output_type": "stream",
          "text": [
            "x\n",
            "[1, 2]\n",
            "y\n",
            "[2]\n"
          ],
          "name": "stdout"
        },
        {
          "output_type": "execute_result",
          "data": {
            "text/plain": [
              "{'x': [1, 2, 100], 'y': [2]}"
            ]
          },
          "metadata": {
            "tags": []
          },
          "execution_count": 105
        }
      ]
    },
    {
      "cell_type": "markdown",
      "metadata": {
        "id": "8MU7c3-Cm87W",
        "colab_type": "text"
      },
      "source": [
        "**Python DataFrame**"
      ]
    },
    {
      "cell_type": "code",
      "metadata": {
        "id": "AtPmnIYSLal7",
        "colab_type": "code",
        "outputId": "143f05ab-7a74-4881-85ad-6696e598ac39",
        "colab": {
          "base_uri": "https://localhost:8080/",
          "height": 34
        }
      },
      "source": [
        "import pandas as pd\n",
        "\n",
        "a = {'a' : [1,2], 'b' : [2,3]}\n",
        "\n",
        "ab  = pd.DataFrame(a)\n",
        "ab\n",
        "\n",
        "ab = pd.DataFrame({'gajajs' : [1,2,3],\n",
        "                 'b' :  ['x','y','z']})\n",
        "ab\n",
        "\n",
        "\n",
        "ab = pd.read_csv('class.csv')\n",
        "\n",
        "type(ab)"
      ],
      "execution_count": 0,
      "outputs": [
        {
          "output_type": "execute_result",
          "data": {
            "text/plain": [
              "pandas.core.frame.DataFrame"
            ]
          },
          "metadata": {
            "tags": []
          },
          "execution_count": 116
        }
      ]
    }
  ]
}